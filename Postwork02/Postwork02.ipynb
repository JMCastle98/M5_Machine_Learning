{
 "cells": [
  {
   "cell_type": "code",
   "execution_count": 1,
   "metadata": {},
   "outputs": [],
   "source": [
    "import numpy as np\n",
    "from sklearn.model_selection import train_test_split\n",
    "import MLUtilities as utils"
   ]
  },
  {
   "cell_type": "code",
   "execution_count": 2,
   "metadata": {},
   "outputs": [],
   "source": [
    "x = np.array([1,2,3,4,5,6,7,8,])\n",
    "y_esperados1 = np.array([1,1,1,1,0,0,0,0])\n",
    "y_predichos1 = np.array([1,0,1,0,1,0,0,0])\n",
    "y_esperados2 = np.array([1,0,1,1,1,1,0,0])\n",
    "y_predichos2 = np.array([1,1,1,0,1,0,1,0])"
   ]
  },
  {
   "cell_type": "code",
   "execution_count": 3,
   "metadata": {},
   "outputs": [
    {
     "name": "stdout",
     "output_type": "stream",
     "text": [
      "(5,)\n",
      "(1,)\n",
      "(2,)\n"
     ]
    }
   ],
   "source": [
    "[x_train, x_val, x_test, y_train, y_val, y_test]  = utils.separar_datos(x,y_esperados1,0.2,0.1)\n",
    "\n",
    "print(x_train.shape)\n",
    "print(x_val.shape)\n",
    "print(x_test.shape)"
   ]
  },
  {
   "cell_type": "code",
   "execution_count": 4,
   "metadata": {},
   "outputs": [
    {
     "name": "stdout",
     "output_type": "stream",
     "text": [
      "Ciclo: 1\n",
      "\t datos para entrenamiento:[1 2 3 4 6 7 8]\n",
      "\t datos para prueba:[5]\n",
      "Ciclo: 2\n",
      "\t datos para entrenamiento:[1 2 3 4 5 6 8]\n",
      "\t datos para prueba:[7]\n",
      "Ciclo: 3\n",
      "\t datos para entrenamiento:[1 2 3 4 5 7 8]\n",
      "\t datos para prueba:[6]\n",
      "Ciclo: 4\n",
      "\t datos para entrenamiento:[1 2 4 5 6 7 8]\n",
      "\t datos para prueba:[3]\n",
      "Ciclo: 5\n",
      "\t datos para entrenamiento:[1 2 3 4 5 6 7]\n",
      "\t datos para prueba:[8]\n",
      "Ciclo: 6\n",
      "\t datos para entrenamiento:[1 2 3 5 6 7 8]\n",
      "\t datos para prueba:[4]\n",
      "Ciclo: 7\n",
      "\t datos para entrenamiento:[2 3 4 5 6 7 8]\n",
      "\t datos para prueba:[1]\n",
      "Ciclo: 8\n",
      "\t datos para entrenamiento:[1 3 4 5 6 7 8]\n",
      "\t datos para prueba:[2]\n"
     ]
    }
   ],
   "source": [
    "utils.separar_datasets(x)"
   ]
  },
  {
   "cell_type": "code",
   "execution_count": 5,
   "metadata": {},
   "outputs": [
    {
     "name": "stdout",
     "output_type": "stream",
     "text": [
      "Ciclo: 1\n",
      "\t datos para entrenamiento:[1 3 4 6]\n",
      "\t datos para prueba:[2 5 7 8]\n",
      "Ciclo: 2\n",
      "\t datos para entrenamiento:[2 5 7 8]\n",
      "\t datos para prueba:[1 3 4 6]\n"
     ]
    }
   ],
   "source": [
    "utils.separar_datasets(x,K=2,random_seed=55)"
   ]
  },
  {
   "cell_type": "code",
   "execution_count": 6,
   "metadata": {},
   "outputs": [
    {
     "name": "stdout",
     "output_type": "stream",
     "text": [
      "True positives: 2\n",
      "True negatives: 3\n",
      "False positives: 1\n",
      "False negative: 2\n"
     ]
    }
   ],
   "source": [
    "TN,FP,FN,TP = utils.matriz_confusion(y_esperados1,y_predichos1)"
   ]
  },
  {
   "cell_type": "code",
   "execution_count": 7,
   "metadata": {},
   "outputs": [
    {
     "name": "stdout",
     "output_type": "stream",
     "text": [
      "62.5\n",
      "50.0\n",
      "75.0\n"
     ]
    }
   ],
   "source": [
    "accuracy,sensibilidad,especificidad = utils.scores(TN,FP,FN,TP)\n",
    "print(accuracy)\n",
    "print(sensibilidad)\n",
    "print(especificidad)"
   ]
  },
  {
   "cell_type": "code",
   "execution_count": 8,
   "metadata": {},
   "outputs": [
    {
     "name": "stdout",
     "output_type": "stream",
     "text": [
      "Scores del primer clasificador:\n",
      "True positives: 2\n",
      "True negatives: 3\n",
      "False positives: 1\n",
      "False negative: 2\n",
      "Scores del segundo clasificador:\n",
      "True positives: 3\n",
      "True negatives: 1\n",
      "False positives: 2\n",
      "False negative: 2\n",
      "El clasificador 1 tiene más True Negatives (3)\n",
      "El clasificador 1 tiene menos False Positives (1)\n",
      "Ambos clasificadores tienen el mismo número de False Negatives(2)\n",
      "El clasificador 2 tiene más True Positives(3)\n",
      "El clasificador 1 tiene mejor accuracy con un valor de: 62.5\n",
      "El clasificador 2 tiene mejor sensibilidad con un valor de: 60.0\n",
      "El clasificador 1 tiene mejor especificidad con un valor de: 75.0\n"
     ]
    }
   ],
   "source": [
    "utils.comparar_clasificadores(y_esperados1,y_predichos1,y_esperados2,y_predichos2)"
   ]
  }
 ],
 "metadata": {
  "kernelspec": {
   "display_name": "Python 3",
   "language": "python",
   "name": "python3"
  },
  "language_info": {
   "codemirror_mode": {
    "name": "ipython",
    "version": 3
   },
   "file_extension": ".py",
   "mimetype": "text/x-python",
   "name": "python",
   "nbconvert_exporter": "python",
   "pygments_lexer": "ipython3",
   "version": "3.9.1"
  }
 },
 "nbformat": 4,
 "nbformat_minor": 4
}
